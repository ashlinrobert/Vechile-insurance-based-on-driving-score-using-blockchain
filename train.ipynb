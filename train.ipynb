{
 "cells": [
  {
   "cell_type": "code",
   "execution_count": 1,
   "metadata": {},
   "outputs": [],
   "source": [
    "import pandas as pd"
   ]
  },
  {
   "cell_type": "code",
   "execution_count": 2,
   "metadata": {},
   "outputs": [
    {
     "data": {
      "text/html": [
       "<div>\n",
       "<style scoped>\n",
       "    .dataframe tbody tr th:only-of-type {\n",
       "        vertical-align: middle;\n",
       "    }\n",
       "\n",
       "    .dataframe tbody tr th {\n",
       "        vertical-align: top;\n",
       "    }\n",
       "\n",
       "    .dataframe thead th {\n",
       "        text-align: right;\n",
       "    }\n",
       "</style>\n",
       "<table border=\"1\" class=\"dataframe\">\n",
       "  <thead>\n",
       "    <tr style=\"text-align: right;\">\n",
       "      <th></th>\n",
       "      <th>Horizontal Dilution of Precision</th>\n",
       "      <th>G(x)</th>\n",
       "      <th>G(y)</th>\n",
       "      <th>G(z)</th>\n",
       "      <th>G(calibrated)</th>\n",
       "      <th>Acceleration Sensor(Total)(g)</th>\n",
       "      <th>Acceleration Sensor(X axis)(g)</th>\n",
       "      <th>Acceleration Sensor(Y axis)(g)</th>\n",
       "      <th>Acceleration Sensor(Z axis)(g)</th>\n",
       "      <th>Engine Load(%)</th>\n",
       "      <th>Engine RPM(rpm)</th>\n",
       "      <th>label</th>\n",
       "    </tr>\n",
       "  </thead>\n",
       "  <tbody>\n",
       "    <tr>\n",
       "      <th>0</th>\n",
       "      <td>18.51466</td>\n",
       "      <td>0.37</td>\n",
       "      <td>5.09</td>\n",
       "      <td>8.21</td>\n",
       "      <td>0.00</td>\n",
       "      <td>-0.03</td>\n",
       "      <td>0.02</td>\n",
       "      <td>0.52</td>\n",
       "      <td>0.71</td>\n",
       "      <td>39.22</td>\n",
       "      <td>1436.5</td>\n",
       "      <td>good</td>\n",
       "    </tr>\n",
       "    <tr>\n",
       "      <th>1</th>\n",
       "      <td>18.51466</td>\n",
       "      <td>-0.27</td>\n",
       "      <td>4.43</td>\n",
       "      <td>8.43</td>\n",
       "      <td>0.01</td>\n",
       "      <td>-0.03</td>\n",
       "      <td>-0.03</td>\n",
       "      <td>0.45</td>\n",
       "      <td>0.76</td>\n",
       "      <td>37.65</td>\n",
       "      <td>1468.5</td>\n",
       "      <td>good</td>\n",
       "    </tr>\n",
       "    <tr>\n",
       "      <th>2</th>\n",
       "      <td>17.99460</td>\n",
       "      <td>0.74</td>\n",
       "      <td>5.15</td>\n",
       "      <td>8.47</td>\n",
       "      <td>0.00</td>\n",
       "      <td>-0.02</td>\n",
       "      <td>0.12</td>\n",
       "      <td>0.56</td>\n",
       "      <td>0.70</td>\n",
       "      <td>38.82</td>\n",
       "      <td>1467.0</td>\n",
       "      <td>good</td>\n",
       "    </tr>\n",
       "    <tr>\n",
       "      <th>3</th>\n",
       "      <td>17.99460</td>\n",
       "      <td>0.96</td>\n",
       "      <td>5.55</td>\n",
       "      <td>7.44</td>\n",
       "      <td>0.00</td>\n",
       "      <td>-0.05</td>\n",
       "      <td>0.05</td>\n",
       "      <td>0.52</td>\n",
       "      <td>0.69</td>\n",
       "      <td>38.04</td>\n",
       "      <td>1447.0</td>\n",
       "      <td>good</td>\n",
       "    </tr>\n",
       "    <tr>\n",
       "      <th>4</th>\n",
       "      <td>17.99460</td>\n",
       "      <td>1.07</td>\n",
       "      <td>5.20</td>\n",
       "      <td>8.45</td>\n",
       "      <td>0.04</td>\n",
       "      <td>-0.02</td>\n",
       "      <td>0.07</td>\n",
       "      <td>0.49</td>\n",
       "      <td>0.75</td>\n",
       "      <td>37.65</td>\n",
       "      <td>1447.0</td>\n",
       "      <td>good</td>\n",
       "    </tr>\n",
       "  </tbody>\n",
       "</table>\n",
       "</div>"
      ],
      "text/plain": [
       "    Horizontal Dilution of Precision   G(x)   G(y)   G(z)   G(calibrated)  \\\n",
       "0                           18.51466   0.37   5.09   8.21            0.00   \n",
       "1                           18.51466  -0.27   4.43   8.43            0.01   \n",
       "2                           17.99460   0.74   5.15   8.47            0.00   \n",
       "3                           17.99460   0.96   5.55   7.44            0.00   \n",
       "4                           17.99460   1.07   5.20   8.45            0.04   \n",
       "\n",
       "   Acceleration Sensor(Total)(g)  Acceleration Sensor(X axis)(g)  \\\n",
       "0                          -0.03                            0.02   \n",
       "1                          -0.03                           -0.03   \n",
       "2                          -0.02                            0.12   \n",
       "3                          -0.05                            0.05   \n",
       "4                          -0.02                            0.07   \n",
       "\n",
       "   Acceleration Sensor(Y axis)(g)  Acceleration Sensor(Z axis)(g)  \\\n",
       "0                            0.52                            0.71   \n",
       "1                            0.45                            0.76   \n",
       "2                            0.56                            0.70   \n",
       "3                            0.52                            0.69   \n",
       "4                            0.49                            0.75   \n",
       "\n",
       "   Engine Load(%)  Engine RPM(rpm) label  \n",
       "0           39.22           1436.5  good  \n",
       "1           37.65           1468.5  good  \n",
       "2           38.82           1467.0  good  \n",
       "3           38.04           1447.0  good  \n",
       "4           37.65           1447.0  good  "
      ]
     },
     "execution_count": 2,
     "metadata": {},
     "output_type": "execute_result"
    }
   ],
   "source": [
    "df=pd.read_csv(\"dataset.csv\")\n",
    "df.head()"
   ]
  },
  {
   "cell_type": "code",
   "execution_count": 3,
   "metadata": {},
   "outputs": [
    {
     "name": "stdout",
     "output_type": "stream",
     "text": [
      "<class 'pandas.core.frame.DataFrame'>\n",
      "RangeIndex: 21759 entries, 0 to 21758\n",
      "Data columns (total 12 columns):\n",
      " #   Column                             Non-Null Count  Dtype  \n",
      "---  ------                             --------------  -----  \n",
      " 0    Horizontal Dilution of Precision  21759 non-null  float64\n",
      " 1    G(x)                              21759 non-null  float64\n",
      " 2    G(y)                              21759 non-null  float64\n",
      " 3    G(z)                              21759 non-null  float64\n",
      " 4    G(calibrated)                     21759 non-null  float64\n",
      " 5   Acceleration Sensor(Total)(g)      21759 non-null  float64\n",
      " 6   Acceleration Sensor(X axis)(g)     21759 non-null  float64\n",
      " 7   Acceleration Sensor(Y axis)(g)     21759 non-null  float64\n",
      " 8   Acceleration Sensor(Z axis)(g)     21759 non-null  float64\n",
      " 9   Engine Load(%)                     21759 non-null  float64\n",
      " 10  Engine RPM(rpm)                    21759 non-null  float64\n",
      " 11  label                              21759 non-null  object \n",
      "dtypes: float64(11), object(1)\n",
      "memory usage: 2.0+ MB\n"
     ]
    }
   ],
   "source": [
    "df.info()"
   ]
  },
  {
   "cell_type": "code",
   "execution_count": 4,
   "metadata": {},
   "outputs": [],
   "source": [
    "df.dropna(inplace=True)"
   ]
  },
  {
   "cell_type": "code",
   "execution_count": 5,
   "metadata": {},
   "outputs": [
    {
     "name": "stdout",
     "output_type": "stream",
     "text": [
      "<class 'pandas.core.frame.DataFrame'>\n",
      "Int64Index: 21759 entries, 0 to 21758\n",
      "Data columns (total 12 columns):\n",
      " #   Column                             Non-Null Count  Dtype  \n",
      "---  ------                             --------------  -----  \n",
      " 0    Horizontal Dilution of Precision  21759 non-null  float64\n",
      " 1    G(x)                              21759 non-null  float64\n",
      " 2    G(y)                              21759 non-null  float64\n",
      " 3    G(z)                              21759 non-null  float64\n",
      " 4    G(calibrated)                     21759 non-null  float64\n",
      " 5   Acceleration Sensor(Total)(g)      21759 non-null  float64\n",
      " 6   Acceleration Sensor(X axis)(g)     21759 non-null  float64\n",
      " 7   Acceleration Sensor(Y axis)(g)     21759 non-null  float64\n",
      " 8   Acceleration Sensor(Z axis)(g)     21759 non-null  float64\n",
      " 9   Engine Load(%)                     21759 non-null  float64\n",
      " 10  Engine RPM(rpm)                    21759 non-null  float64\n",
      " 11  label                              21759 non-null  object \n",
      "dtypes: float64(11), object(1)\n",
      "memory usage: 2.2+ MB\n"
     ]
    }
   ],
   "source": [
    "df.info()"
   ]
  },
  {
   "cell_type": "code",
   "execution_count": 6,
   "metadata": {},
   "outputs": [
    {
     "data": {
      "text/html": [
       "<div>\n",
       "<style scoped>\n",
       "    .dataframe tbody tr th:only-of-type {\n",
       "        vertical-align: middle;\n",
       "    }\n",
       "\n",
       "    .dataframe tbody tr th {\n",
       "        vertical-align: top;\n",
       "    }\n",
       "\n",
       "    .dataframe thead th {\n",
       "        text-align: right;\n",
       "    }\n",
       "</style>\n",
       "<table border=\"1\" class=\"dataframe\">\n",
       "  <thead>\n",
       "    <tr style=\"text-align: right;\">\n",
       "      <th></th>\n",
       "      <th>Horizontal Dilution of Precision</th>\n",
       "      <th>G(x)</th>\n",
       "      <th>G(y)</th>\n",
       "      <th>G(z)</th>\n",
       "      <th>G(calibrated)</th>\n",
       "      <th>Acceleration Sensor(Total)(g)</th>\n",
       "      <th>Acceleration Sensor(X axis)(g)</th>\n",
       "      <th>Acceleration Sensor(Y axis)(g)</th>\n",
       "      <th>Acceleration Sensor(Z axis)(g)</th>\n",
       "      <th>Engine Load(%)</th>\n",
       "      <th>Engine RPM(rpm)</th>\n",
       "    </tr>\n",
       "  </thead>\n",
       "  <tbody>\n",
       "    <tr>\n",
       "      <th>0</th>\n",
       "      <td>18.51466</td>\n",
       "      <td>0.37</td>\n",
       "      <td>5.09</td>\n",
       "      <td>8.21</td>\n",
       "      <td>0.00</td>\n",
       "      <td>-0.03</td>\n",
       "      <td>0.02</td>\n",
       "      <td>0.52</td>\n",
       "      <td>0.71</td>\n",
       "      <td>39.22</td>\n",
       "      <td>1436.5</td>\n",
       "    </tr>\n",
       "    <tr>\n",
       "      <th>1</th>\n",
       "      <td>18.51466</td>\n",
       "      <td>-0.27</td>\n",
       "      <td>4.43</td>\n",
       "      <td>8.43</td>\n",
       "      <td>0.01</td>\n",
       "      <td>-0.03</td>\n",
       "      <td>-0.03</td>\n",
       "      <td>0.45</td>\n",
       "      <td>0.76</td>\n",
       "      <td>37.65</td>\n",
       "      <td>1468.5</td>\n",
       "    </tr>\n",
       "    <tr>\n",
       "      <th>2</th>\n",
       "      <td>17.99460</td>\n",
       "      <td>0.74</td>\n",
       "      <td>5.15</td>\n",
       "      <td>8.47</td>\n",
       "      <td>0.00</td>\n",
       "      <td>-0.02</td>\n",
       "      <td>0.12</td>\n",
       "      <td>0.56</td>\n",
       "      <td>0.70</td>\n",
       "      <td>38.82</td>\n",
       "      <td>1467.0</td>\n",
       "    </tr>\n",
       "    <tr>\n",
       "      <th>3</th>\n",
       "      <td>17.99460</td>\n",
       "      <td>0.96</td>\n",
       "      <td>5.55</td>\n",
       "      <td>7.44</td>\n",
       "      <td>0.00</td>\n",
       "      <td>-0.05</td>\n",
       "      <td>0.05</td>\n",
       "      <td>0.52</td>\n",
       "      <td>0.69</td>\n",
       "      <td>38.04</td>\n",
       "      <td>1447.0</td>\n",
       "    </tr>\n",
       "    <tr>\n",
       "      <th>4</th>\n",
       "      <td>17.99460</td>\n",
       "      <td>1.07</td>\n",
       "      <td>5.20</td>\n",
       "      <td>8.45</td>\n",
       "      <td>0.04</td>\n",
       "      <td>-0.02</td>\n",
       "      <td>0.07</td>\n",
       "      <td>0.49</td>\n",
       "      <td>0.75</td>\n",
       "      <td>37.65</td>\n",
       "      <td>1447.0</td>\n",
       "    </tr>\n",
       "  </tbody>\n",
       "</table>\n",
       "</div>"
      ],
      "text/plain": [
       "    Horizontal Dilution of Precision   G(x)   G(y)   G(z)   G(calibrated)  \\\n",
       "0                           18.51466   0.37   5.09   8.21            0.00   \n",
       "1                           18.51466  -0.27   4.43   8.43            0.01   \n",
       "2                           17.99460   0.74   5.15   8.47            0.00   \n",
       "3                           17.99460   0.96   5.55   7.44            0.00   \n",
       "4                           17.99460   1.07   5.20   8.45            0.04   \n",
       "\n",
       "   Acceleration Sensor(Total)(g)  Acceleration Sensor(X axis)(g)  \\\n",
       "0                          -0.03                            0.02   \n",
       "1                          -0.03                           -0.03   \n",
       "2                          -0.02                            0.12   \n",
       "3                          -0.05                            0.05   \n",
       "4                          -0.02                            0.07   \n",
       "\n",
       "   Acceleration Sensor(Y axis)(g)  Acceleration Sensor(Z axis)(g)  \\\n",
       "0                            0.52                            0.71   \n",
       "1                            0.45                            0.76   \n",
       "2                            0.56                            0.70   \n",
       "3                            0.52                            0.69   \n",
       "4                            0.49                            0.75   \n",
       "\n",
       "   Engine Load(%)  Engine RPM(rpm)  \n",
       "0           39.22           1436.5  \n",
       "1           37.65           1468.5  \n",
       "2           38.82           1467.0  \n",
       "3           38.04           1447.0  \n",
       "4           37.65           1447.0  "
      ]
     },
     "execution_count": 6,
     "metadata": {},
     "output_type": "execute_result"
    }
   ],
   "source": [
    "x=df.iloc[:,:-1]\n",
    "x.head()"
   ]
  },
  {
   "cell_type": "code",
   "execution_count": 7,
   "metadata": {},
   "outputs": [
    {
     "data": {
      "text/html": [
       "<div>\n",
       "<style scoped>\n",
       "    .dataframe tbody tr th:only-of-type {\n",
       "        vertical-align: middle;\n",
       "    }\n",
       "\n",
       "    .dataframe tbody tr th {\n",
       "        vertical-align: top;\n",
       "    }\n",
       "\n",
       "    .dataframe thead th {\n",
       "        text-align: right;\n",
       "    }\n",
       "</style>\n",
       "<table border=\"1\" class=\"dataframe\">\n",
       "  <thead>\n",
       "    <tr style=\"text-align: right;\">\n",
       "      <th></th>\n",
       "      <th>label</th>\n",
       "    </tr>\n",
       "  </thead>\n",
       "  <tbody>\n",
       "    <tr>\n",
       "      <th>0</th>\n",
       "      <td>good</td>\n",
       "    </tr>\n",
       "    <tr>\n",
       "      <th>1</th>\n",
       "      <td>good</td>\n",
       "    </tr>\n",
       "    <tr>\n",
       "      <th>2</th>\n",
       "      <td>good</td>\n",
       "    </tr>\n",
       "    <tr>\n",
       "      <th>3</th>\n",
       "      <td>good</td>\n",
       "    </tr>\n",
       "    <tr>\n",
       "      <th>4</th>\n",
       "      <td>good</td>\n",
       "    </tr>\n",
       "  </tbody>\n",
       "</table>\n",
       "</div>"
      ],
      "text/plain": [
       "  label\n",
       "0  good\n",
       "1  good\n",
       "2  good\n",
       "3  good\n",
       "4  good"
      ]
     },
     "execution_count": 7,
     "metadata": {},
     "output_type": "execute_result"
    }
   ],
   "source": [
    "y=df.iloc[:,-1:]\n",
    "y.head()"
   ]
  },
  {
   "cell_type": "code",
   "execution_count": 8,
   "metadata": {},
   "outputs": [],
   "source": [
    "from sklearn.preprocessing import LabelEncoder"
   ]
  },
  {
   "cell_type": "code",
   "execution_count": 9,
   "metadata": {},
   "outputs": [
    {
     "name": "stderr",
     "output_type": "stream",
     "text": [
      "C:\\ProgramData\\Anaconda3\\lib\\site-packages\\sklearn\\utils\\validation.py:63: DataConversionWarning: A column-vector y was passed when a 1d array was expected. Please change the shape of y to (n_samples, ), for example using ravel().\n",
      "  return f(*args, **kwargs)\n"
     ]
    }
   ],
   "source": [
    "le=LabelEncoder()\n",
    "le.fit(y)\n",
    "y=le.transform(y)"
   ]
  },
  {
   "cell_type": "code",
   "execution_count": 10,
   "metadata": {},
   "outputs": [],
   "source": [
    "from imblearn.over_sampling import RandomOverSampler"
   ]
  },
  {
   "cell_type": "code",
   "execution_count": 11,
   "metadata": {},
   "outputs": [],
   "source": [
    "ros = RandomOverSampler(random_state=42)"
   ]
  },
  {
   "cell_type": "code",
   "execution_count": 12,
   "metadata": {},
   "outputs": [],
   "source": [
    "x_res, y_res = ros.fit_resample(x, y)"
   ]
  },
  {
   "cell_type": "code",
   "execution_count": 13,
   "metadata": {},
   "outputs": [
    {
     "name": "stdout",
     "output_type": "stream",
     "text": [
      "Resampled dataset shape Counter({1: 15614, 0: 15614})\n"
     ]
    }
   ],
   "source": [
    "from collections import Counter\n",
    "print('Resampled dataset shape %s' % Counter(y_res))"
   ]
  },
  {
   "cell_type": "code",
   "execution_count": 14,
   "metadata": {},
   "outputs": [],
   "source": [
    "from sklearn.model_selection import train_test_split"
   ]
  },
  {
   "cell_type": "code",
   "execution_count": 15,
   "metadata": {},
   "outputs": [],
   "source": [
    "x_train, x_test, y_train, y_test = train_test_split(x_res, y_res, test_size=0.33, random_state=42)"
   ]
  },
  {
   "cell_type": "code",
   "execution_count": 16,
   "metadata": {},
   "outputs": [],
   "source": [
    "from sklearn.ensemble import RandomForestClassifier"
   ]
  },
  {
   "cell_type": "code",
   "execution_count": 17,
   "metadata": {},
   "outputs": [],
   "source": [
    "clf = RandomForestClassifier(max_depth=2, random_state=0)"
   ]
  },
  {
   "cell_type": "code",
   "execution_count": 18,
   "metadata": {},
   "outputs": [
    {
     "data": {
      "text/plain": [
       "RandomForestClassifier(max_depth=2, random_state=0)"
      ]
     },
     "execution_count": 18,
     "metadata": {},
     "output_type": "execute_result"
    }
   ],
   "source": [
    "clf.fit(x_train, y_train)"
   ]
  },
  {
   "cell_type": "code",
   "execution_count": 19,
   "metadata": {},
   "outputs": [],
   "source": [
    "y_pred=clf.predict(x_test)"
   ]
  },
  {
   "cell_type": "code",
   "execution_count": 20,
   "metadata": {},
   "outputs": [],
   "source": [
    "from sklearn.metrics import accuracy_score"
   ]
  },
  {
   "cell_type": "code",
   "execution_count": 21,
   "metadata": {},
   "outputs": [
    {
     "name": "stdout",
     "output_type": "stream",
     "text": [
      "accuracy score: 0.97516010091209\n"
     ]
    }
   ],
   "source": [
    "print(\"accuracy score:\",accuracy_score(y_test,y_pred))"
   ]
  },
  {
   "cell_type": "code",
   "execution_count": 22,
   "metadata": {},
   "outputs": [],
   "source": [
    "import joblib"
   ]
  },
  {
   "cell_type": "code",
   "execution_count": 23,
   "metadata": {},
   "outputs": [
    {
     "data": {
      "text/plain": [
       "['label.joblib']"
      ]
     },
     "execution_count": 23,
     "metadata": {},
     "output_type": "execute_result"
    }
   ],
   "source": [
    "joblib.dump(clf,\"model.joblib\")\n",
    "joblib.dump(le,\"label.joblib\")"
   ]
  },
  {
   "cell_type": "code",
   "execution_count": 30,
   "metadata": {},
   "outputs": [],
   "source": [
    "x_test.iloc[:1,:].to_csv(\"test.csv\",index=False)"
   ]
  }
 ],
 "metadata": {
  "kernelspec": {
   "display_name": "Python 3",
   "language": "python",
   "name": "python3"
  },
  "language_info": {
   "codemirror_mode": {
    "name": "ipython",
    "version": 3
   },
   "file_extension": ".py",
   "mimetype": "text/x-python",
   "name": "python",
   "nbconvert_exporter": "python",
   "pygments_lexer": "ipython3",
   "version": "3.6.5"
  }
 },
 "nbformat": 4,
 "nbformat_minor": 2
}
